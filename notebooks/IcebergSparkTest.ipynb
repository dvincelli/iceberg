{
 "cells": [
  {
   "cell_type": "code",
   "execution_count": 2,
   "id": "613f737c-24be-4c05-9ed7-6c2431a8dc29",
   "metadata": {},
   "outputs": [],
   "source": [
    "from pyspark.sql import SparkSession\n",
    "\n",
    "spark = SparkSession.builder \\\n",
    "    .appName(\"Iceberg-Nessie-Demo\") \\\n",
    "    .master(\"local[*]\") \\\n",
    "    .config(\"spark.sql.catalog.demo\", \"org.apache.iceberg.spark.SparkCatalog\") \\\n",
    "    .config(\"spark.sql.catalog.demo.catalog-impl\", \"org.apache.iceberg.nessie.NessieCatalog\") \\\n",
    "    .config(\"spark.sql.catalog.demo.uri\", \"http://nessie:19120/api/v1\") \\\n",
    "    .config(\"spark.sql.catalog.demo.warehouse\", \"s3a://nessie-bucket/warehouse/\") \\\n",
    "    .config(\"spark.sql.catalog.demo.s3.endpoint\", \"http://minio:9002\") \\\n",
    "    .config(\"spark.sql.catalog.demo.s3.access-key\", \"minioadmin\") \\\n",
    "    .config(\"spark.sql.catalog.demo.s3.secret-key\", \"minioadmin\") \\\n",
    "    .config(\"spark.sql.catalog.demo.s3.path-style-access\", \"true\") \\\n",
    "    .config(\"spark.hadoop.fs.s3a.endpoint\", \"http://minio:9002\") \\\n",
    "    .config(\"spark.hadoop.fs.s3a.access.key\", \"minioadmin\") \\\n",
    "    .config(\"spark.hadoop.fs.s3a.secret.key\", \"minioadmin\") \\\n",
    "    .config(\"spark.hadoop.fs.s3a.path.style.access\", \"true\") \\\n",
    "    .getOrCreate()\n"
   ]
  },
  {
   "cell_type": "code",
   "execution_count": 4,
   "id": "88a68d7e-f45d-45f4-ba8f-dfae6a5a49c9",
   "metadata": {},
   "outputs": [
    {
     "data": {
      "text/plain": [
       "DataFrame[]"
      ]
     },
     "execution_count": 4,
     "metadata": {},
     "output_type": "execute_result"
    }
   ],
   "source": [
    "spark.sql(\"CREATE NAMESPACE IF NOT EXISTS demo.db\")\n"
   ]
  },
  {
   "cell_type": "code",
   "execution_count": 5,
   "id": "66e0f886-a2f3-4ca2-961c-b91eb14be40c",
   "metadata": {},
   "outputs": [
    {
     "data": {
      "text/plain": [
       "DataFrame[]"
      ]
     },
     "execution_count": 5,
     "metadata": {},
     "output_type": "execute_result"
    }
   ],
   "source": [
    "spark.sql(\"CREATE TABLE demo.db.people (id BIGINT, name STRING) USING iceberg\")\n"
   ]
  },
  {
   "cell_type": "code",
   "execution_count": 6,
   "id": "832ca775-4627-479b-97b0-85370c2bd717",
   "metadata": {},
   "outputs": [
    {
     "data": {
      "text/plain": [
       "DataFrame[]"
      ]
     },
     "execution_count": 6,
     "metadata": {},
     "output_type": "execute_result"
    }
   ],
   "source": [
    "spark.sql(\"INSERT INTO demo.db.people VALUES (1, 'Alice'), (2, 'Bob')\")\n"
   ]
  },
  {
   "cell_type": "code",
   "execution_count": 7,
   "id": "8f1f607a-cde7-4bbe-9d99-142001a0e900",
   "metadata": {},
   "outputs": [
    {
     "name": "stdout",
     "output_type": "stream",
     "text": [
      "+---+-----+\n",
      "| id| name|\n",
      "+---+-----+\n",
      "|  1|Alice|\n",
      "|  2|  Bob|\n",
      "+---+-----+\n",
      "\n"
     ]
    }
   ],
   "source": [
    "c.show()\n"
   ]
  },
  {
   "cell_type": "code",
   "execution_count": 10,
   "id": "303ab1dc-7bda-4340-adfb-924c83c8649b",
   "metadata": {},
   "outputs": [],
   "source": [
    "r = spark.sql(\"SELECT * FROM demo.db.people\")"
   ]
  },
  {
   "cell_type": "code",
   "execution_count": 11,
   "id": "a2746b59-ddcb-4d1a-b398-4246220a1f5f",
   "metadata": {},
   "outputs": [
    {
     "name": "stdout",
     "output_type": "stream",
     "text": [
      "+---+-----+\n",
      "| id| name|\n",
      "+---+-----+\n",
      "|  1|Alice|\n",
      "|  2|  Bob|\n",
      "+---+-----+\n",
      "\n"
     ]
    }
   ],
   "source": [
    "r.show()"
   ]
  }
 ],
 "metadata": {
  "kernelspec": {
   "display_name": "Python 3 (ipykernel)",
   "language": "python",
   "name": "python3"
  },
  "language_info": {
   "codemirror_mode": {
    "name": "ipython",
    "version": 3
   },
   "file_extension": ".py",
   "mimetype": "text/x-python",
   "name": "python",
   "nbconvert_exporter": "python",
   "pygments_lexer": "ipython3",
   "version": "3.11.6"
  }
 },
 "nbformat": 4,
 "nbformat_minor": 5
}
